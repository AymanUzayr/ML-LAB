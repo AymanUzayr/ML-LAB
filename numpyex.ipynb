{
 "cells": [
  {
   "cell_type": "code",
   "execution_count": 2,
   "id": "1011ade9",
   "metadata": {},
   "outputs": [
    {
     "data": {
      "text/plain": [
       "array(['a', 'b', 'c'], dtype='<U1')"
      ]
     },
     "execution_count": 2,
     "metadata": {},
     "output_type": "execute_result"
    }
   ],
   "source": [
    "import numpy as np\n",
    "char_arr = np.array(['a','b','c'])\n",
    "char_arr"
   ]
  },
  {
   "cell_type": "code",
   "execution_count": 5,
   "id": "1990c5e8",
   "metadata": {},
   "outputs": [
    {
     "data": {
      "text/plain": [
       "array(['supervised', 'unsupervised', 'semi-supervised', 'reinforcement'],\n",
       "      dtype='<U15')"
      ]
     },
     "execution_count": 5,
     "metadata": {},
     "output_type": "execute_result"
    }
   ],
   "source": [
    "ch_arr2 = np.array([\"Supervised\",\"unSupervised\",\"sEMi-supervised\",\"reinforcement\"])\n",
    "low_arr= np.char.lower(ch_arr2)\n",
    "low_arr"
   ]
  },
  {
   "cell_type": "code",
   "execution_count": 6,
   "id": "4df990cc",
   "metadata": {},
   "outputs": [
    {
     "data": {
      "text/plain": [
       "array(['supervised', 'unsupervised', 'semi supervised', 'reinforcement'],\n",
       "      dtype='<U15')"
      ]
     },
     "execution_count": 6,
     "metadata": {},
     "output_type": "execute_result"
    }
   ],
   "source": [
    "cleaned_arr = np.char.replace(low_arr,\"-\",\" \")\n",
    "cleaned_arr"
   ]
  },
  {
   "cell_type": "code",
   "execution_count": 9,
   "id": "1373b8bc",
   "metadata": {},
   "outputs": [
    {
     "data": {
      "text/plain": [
       "dtype('int32')"
      ]
     },
     "execution_count": 9,
     "metadata": {},
     "output_type": "execute_result"
    }
   ],
   "source": [
    "array1=np.array([1,2,3,4])\n",
    "array1.dtype"
   ]
  },
  {
   "cell_type": "code",
   "execution_count": 11,
   "id": "cacc8f6b",
   "metadata": {},
   "outputs": [
    {
     "data": {
      "text/plain": [
       "dtype('<U15')"
      ]
     },
     "execution_count": 11,
     "metadata": {},
     "output_type": "execute_result"
    }
   ],
   "source": [
    "low_arr.dtype"
   ]
  },
  {
   "cell_type": "code",
   "execution_count": 12,
   "id": "dceaf438",
   "metadata": {},
   "outputs": [
    {
     "data": {
      "text/plain": [
       "dtype('<U1')"
      ]
     },
     "execution_count": 12,
     "metadata": {},
     "output_type": "execute_result"
    }
   ],
   "source": [
    "char_arr.dtype"
   ]
  },
  {
   "cell_type": "code",
   "execution_count": 15,
   "id": "064bcfb8",
   "metadata": {},
   "outputs": [
    {
     "data": {
      "text/plain": [
       "array([1.+0.j, 2.+0.j, 3.+0.j, 4.+0.j, 5.+0.j], dtype=complex64)"
      ]
     },
     "execution_count": 15,
     "metadata": {},
     "output_type": "execute_result"
    }
   ],
   "source": [
    "arr1= np.array([1,2,3,4,5],dtype='F')\n",
    "arr1"
   ]
  },
  {
   "cell_type": "code",
   "execution_count": 17,
   "id": "a042d0ce",
   "metadata": {},
   "outputs": [
    {
     "data": {
      "text/plain": [
       "array([b'1', b'2', b'3', b'4', b'5'], dtype='|S1')"
      ]
     },
     "execution_count": 17,
     "metadata": {},
     "output_type": "execute_result"
    }
   ],
   "source": [
    "arr1= np.array([1,2,3,4,5],dtype='S')\n",
    "arr1"
   ]
  },
  {
   "cell_type": "code",
   "execution_count": 21,
   "id": "b3347467",
   "metadata": {},
   "outputs": [
    {
     "data": {
      "text/plain": [
       "array([1., 2., 3., 4., 5.], dtype=float32)"
      ]
     },
     "execution_count": 21,
     "metadata": {},
     "output_type": "execute_result"
    }
   ],
   "source": [
    "arr1= np.array([1,2,3,4,5],dtype='f')\n",
    "arr1"
   ]
  },
  {
   "cell_type": "code",
   "execution_count": 23,
   "id": "8ce408d6",
   "metadata": {},
   "outputs": [
    {
     "data": {
      "text/plain": [
       "array([1, 2, 3, 4, 5], dtype=int32)"
      ]
     },
     "execution_count": 23,
     "metadata": {},
     "output_type": "execute_result"
    }
   ],
   "source": [
    "arr1conv= arr1.astype(\"i\")\n",
    "arr1conv"
   ]
  },
  {
   "cell_type": "code",
   "execution_count": 25,
   "id": "3c70d97f",
   "metadata": {},
   "outputs": [
    {
     "data": {
      "text/plain": [
       "array([1., 2., 3., 4., 5.], dtype=float32)"
      ]
     },
     "execution_count": 25,
     "metadata": {},
     "output_type": "execute_result"
    }
   ],
   "source": [
    "arr1againconv= arr1conv.astype(\"f\")\n",
    "arr1againconv"
   ]
  },
  {
   "cell_type": "code",
   "execution_count": 30,
   "id": "541b0ba2",
   "metadata": {},
   "outputs": [
    {
     "data": {
      "text/plain": [
       "array(['1', '2', '3', '4', '5'], dtype='<U1')"
      ]
     },
     "execution_count": 30,
     "metadata": {},
     "output_type": "execute_result"
    }
   ],
   "source": [
    "char_conv = arr1.astype('U1')\n",
    "char_conv"
   ]
  },
  {
   "cell_type": "markdown",
   "id": "728b84d0",
   "metadata": {},
   "source": [
    "Python numpy.ones() function returns a new array of given shape and data type, where element's value is set to 1"
   ]
  },
  {
   "cell_type": "code",
   "execution_count": 33,
   "id": "29782e36",
   "metadata": {},
   "outputs": [
    {
     "data": {
      "text/plain": [
       "array([[1, 1, 1],\n",
       "       [1, 1, 1],\n",
       "       [1, 1, 1]])"
      ]
     },
     "execution_count": 33,
     "metadata": {},
     "output_type": "execute_result"
    }
   ],
   "source": [
    "ars1= np.ones((3,3), dtype='int')\n",
    "ars1"
   ]
  },
  {
   "cell_type": "code",
   "execution_count": 34,
   "id": "1fa0b337",
   "metadata": {},
   "outputs": [
    {
     "data": {
      "text/plain": [
       "dtype('int32')"
      ]
     },
     "execution_count": 34,
     "metadata": {},
     "output_type": "execute_result"
    }
   ],
   "source": [
    "ars1.dtype"
   ]
  },
  {
   "cell_type": "code",
   "execution_count": 36,
   "id": "c2def765",
   "metadata": {},
   "outputs": [
    {
     "data": {
      "text/plain": [
       "array([[0, 0, 0],\n",
       "       [0, 0, 0],\n",
       "       [0, 0, 0]], dtype=int64)"
      ]
     },
     "execution_count": 36,
     "metadata": {},
     "output_type": "execute_result"
    }
   ],
   "source": [
    "ars0 = np.zeros((3,3),dtype=\"int64\")\n",
    "ars0"
   ]
  },
  {
   "cell_type": "raw",
   "id": "7a2d8c28",
   "metadata": {},
   "source": [
    "\n"
   ]
  },
  {
   "cell_type": "code",
   "execution_count": 42,
   "id": "ea287ec9",
   "metadata": {},
   "outputs": [
    {
     "data": {
      "text/plain": [
       "array([0.13303818, 0.0165036 , 0.31378015])"
      ]
     },
     "execution_count": 42,
     "metadata": {},
     "output_type": "execute_result"
    }
   ],
   "source": [
    "ars3= np.random.random(3)\n",
    "ars3"
   ]
  },
  {
   "cell_type": "markdown",
   "id": "d8eec708",
   "metadata": {},
   "source": []
  },
  {
   "cell_type": "code",
   "execution_count": 47,
   "id": "c341344a",
   "metadata": {},
   "outputs": [
    {
     "data": {
      "text/plain": [
       "3"
      ]
     },
     "execution_count": 47,
     "metadata": {},
     "output_type": "execute_result"
    }
   ],
   "source": [
    "dimones = np.ones((4,3,2))\n",
    "dimones\n",
    "dimones.ndim"
   ]
  },
  {
   "cell_type": "code",
   "execution_count": 49,
   "id": "83dfeb68",
   "metadata": {},
   "outputs": [],
   "source": [
    "ar1=np.array([1,2,3])\n",
    "ar2=np.array([2,4,6])\n"
   ]
  },
  {
   "cell_type": "code",
   "execution_count": 51,
   "id": "19d0f878",
   "metadata": {},
   "outputs": [],
   "source": [
    "power=np.power(ar1,ar2)\n"
   ]
  },
  {
   "cell_type": "code",
   "execution_count": 52,
   "id": "cbc1d45b",
   "metadata": {},
   "outputs": [
    {
     "data": {
      "text/plain": [
       "array([[11, 22, 25],\n",
       "       [14, 25, 28]])"
      ]
     },
     "execution_count": 52,
     "metadata": {},
     "output_type": "execute_result"
    }
   ],
   "source": [
    "array2d = np.array([[1,2,3],[4,5,6]])\n",
    "array1d=np.array([10,20,22])\n",
    "result=array2d+array1d\n",
    "result"
   ]
  },
  {
   "cell_type": "markdown",
   "id": "785f1808",
   "metadata": {},
   "source": [
    "np.arrange(start,stop,step,dtype=None)"
   ]
  },
  {
   "cell_type": "code",
   "execution_count": 53,
   "id": "1992fceb",
   "metadata": {},
   "outputs": [
    {
     "data": {
      "text/plain": [
       "array([0, 3, 6, 9])"
      ]
     },
     "execution_count": 53,
     "metadata": {},
     "output_type": "execute_result"
    }
   ],
   "source": [
    "range_arr= np.arange(0,10,3)\n",
    "range_arr\n"
   ]
  },
  {
   "cell_type": "code",
   "execution_count": 54,
   "id": "d7990c8b",
   "metadata": {},
   "outputs": [
    {
     "data": {
      "text/plain": [
       "5"
      ]
     },
     "execution_count": 54,
     "metadata": {},
     "output_type": "execute_result"
    }
   ],
   "source": [
    "np.random.randint(0,23)"
   ]
  },
  {
   "cell_type": "code",
   "execution_count": 55,
   "id": "1f9e9916",
   "metadata": {},
   "outputs": [
    {
     "data": {
      "text/plain": [
       "array([[2, 1, 2],\n",
       "       [1, 4, 2]])"
      ]
     },
     "execution_count": 55,
     "metadata": {},
     "output_type": "execute_result"
    }
   ],
   "source": [
    "b=np.random.randint(low=1,high=6,size=(2,3))\n",
    "b"
   ]
  },
  {
   "cell_type": "code",
   "execution_count": null,
   "id": "f7d6fe0a",
   "metadata": {},
   "outputs": [],
   "source": []
  }
 ],
 "metadata": {
  "kernelspec": {
   "display_name": "Python 3 (ipykernel)",
   "language": "python",
   "name": "python3"
  },
  "language_info": {
   "codemirror_mode": {
    "name": "ipython",
    "version": 3
   },
   "file_extension": ".py",
   "mimetype": "text/x-python",
   "name": "python",
   "nbconvert_exporter": "python",
   "pygments_lexer": "ipython3",
   "version": "3.11.5"
  }
 },
 "nbformat": 4,
 "nbformat_minor": 5
}
